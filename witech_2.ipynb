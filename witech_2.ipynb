{
 "cells": [
  {
   "cell_type": "code",
   "execution_count": null,
   "metadata": {
    "ExecuteTime": {
     "end_time": "2021-03-26T11:26:23.276948Z",
     "start_time": "2021-03-26T11:26:21.369149Z"
    },
    "id": "06H8UN7mCsMh"
   },
   "outputs": [],
   "source": [
    "import pandas as pd\n",
    "import matplotlib.pyplot as plt\n",
    "# %matplotlib notebook\n",
    "\n",
    "df = pd.read_csv('PH_Mobility_Report.csv')"
   ]
  },
  {
   "cell_type": "code",
   "execution_count": null,
   "metadata": {
    "ExecuteTime": {
     "end_time": "2021-03-26T11:26:24.687997Z",
     "start_time": "2021-03-26T11:26:24.662686Z"
    },
    "colab": {
     "base_uri": "https://localhost:8080/",
     "height": 330
    },
    "id": "afSE3vASFWq7",
    "outputId": "fb9c9339-7737-441d-e911-c2264b647c6b"
   },
   "outputs": [],
   "source": [
    "df.head()"
   ]
  },
  {
   "cell_type": "code",
   "execution_count": null,
   "metadata": {
    "ExecuteTime": {
     "end_time": "2021-03-26T11:26:24.979081Z",
     "start_time": "2021-03-26T11:26:24.971420Z"
    },
    "colab": {
     "base_uri": "https://localhost:8080/"
    },
    "id": "wPkYnfw0FcaE",
    "outputId": "cf4d8481-e4a7-4e82-9b74-4176ee861fe4"
   },
   "outputs": [],
   "source": [
    "df['sub_region_1'].value_counts()"
   ]
  },
  {
   "cell_type": "code",
   "execution_count": null,
   "metadata": {
    "ExecuteTime": {
     "end_time": "2021-03-26T11:26:25.364837Z",
     "start_time": "2021-03-26T11:26:25.357314Z"
    },
    "id": "ffQkK9qXGRQV"
   },
   "outputs": [],
   "source": [
    "df_ncr = df[df['sub_region_1'] == 'National Capital Region']"
   ]
  },
  {
   "cell_type": "code",
   "execution_count": null,
   "metadata": {
    "ExecuteTime": {
     "end_time": "2021-03-26T11:26:28.122088Z",
     "start_time": "2021-03-26T11:26:28.095449Z"
    },
    "colab": {
     "base_uri": "https://localhost:8080/",
     "height": 330
    },
    "id": "skFnrnBDGl1K",
    "outputId": "155682a9-50e8-46aa-a59f-fe737d025fad"
   },
   "outputs": [],
   "source": [
    "df_ncr.head()"
   ]
  },
  {
   "cell_type": "code",
   "execution_count": null,
   "metadata": {
    "ExecuteTime": {
     "end_time": "2021-03-26T11:26:28.346938Z",
     "start_time": "2021-03-26T11:26:28.332868Z"
    },
    "colab": {
     "base_uri": "https://localhost:8080/"
    },
    "id": "vonuWP8BGodW",
    "outputId": "6e5736d1-8be4-43fe-c155-1091ee016931"
   },
   "outputs": [],
   "source": [
    "# import matplotlib.pyplot as plt\n",
    "\n",
    "df_ncr['date_1'] = pd.to_datetime(df_ncr['date'])\n",
    "x_d = df_ncr['date_1']\n",
    "\n",
    "y1 = df_ncr['retail_and_recreation_percent_change_from_baseline']\n",
    "y2 = df_ncr['grocery_and_pharmacy_percent_change_from_baseline']\n",
    "y3 = df_ncr['parks_percent_change_from_baseline']\n",
    "y4 = df_ncr['transit_stations_percent_change_from_baseline']\n",
    "y5 = df_ncr['workplaces_percent_change_from_baseline']\n",
    "y6 = df_ncr['residential_percent_change_from_baseline']"
   ]
  },
  {
   "cell_type": "code",
   "execution_count": null,
   "metadata": {
    "colab": {
     "base_uri": "https://localhost:8080/"
    },
    "id": "JwV7sr_JHY_T",
    "outputId": "5a5c78e9-ddfb-4153-b0a0-6218d0648560"
   },
   "outputs": [],
   "source": [
    "df_ncr.columns"
   ]
  },
  {
   "cell_type": "code",
   "execution_count": null,
   "metadata": {
    "ExecuteTime": {
     "end_time": "2021-03-26T11:26:54.696480Z",
     "start_time": "2021-03-26T11:26:54.646319Z"
    },
    "colab": {
     "base_uri": "https://localhost:8080/",
     "height": 17
    },
    "id": "azADNht3HbO8",
    "outputId": "35dee13d-7867-4cc8-9814-04c5a4451593"
   },
   "outputs": [],
   "source": [
    "plt.plot(x_d, y1, color='r', label='Retail and Recreation')\n",
    "plt.plot(x_d, y2, color='b', label='Grocery and Pharmacy')\n",
    "plt.plot(x_d, y3, color='g', label='Parks')\n",
    "plt.plot(x_d, y4, color='c', label='Transit Stations')\n",
    "plt.plot(x_d, y5, color='m', label='Workplaces')\n",
    "plt.plot(x_d, y6, color='y', label='Residential')\n",
    "plt.show()"
   ]
  },
  {
   "cell_type": "code",
   "execution_count": null,
   "metadata": {},
   "outputs": [],
   "source": []
  }
 ],
 "metadata": {
  "colab": {
   "name": "witech_2.ipynb",
   "provenance": []
  },
  "kernelspec": {
   "display_name": "Python 3",
   "language": "python",
   "name": "python3"
  },
  "language_info": {
   "codemirror_mode": {
    "name": "ipython",
    "version": 3
   },
   "file_extension": ".py",
   "mimetype": "text/x-python",
   "name": "python",
   "nbconvert_exporter": "python",
   "pygments_lexer": "ipython3",
   "version": "3.8.3"
  }
 },
 "nbformat": 4,
 "nbformat_minor": 1
}
